{
 "cells": [
  {
   "cell_type": "code",
   "execution_count": 34,
   "metadata": {},
   "outputs": [],
   "source": [
    "import cmath\n",
    "import seaborn as sns\n",
    "from ipywidgets import interact, interactive, fixed, interact_manual"
   ]
  },
  {
   "cell_type": "code",
   "execution_count": 28,
   "metadata": {
    "collapsed": true
   },
   "outputs": [],
   "source": [
    "def f(z,c):\n",
    "    return z**2 + c"
   ]
  },
  {
   "cell_type": "code",
   "execution_count": 29,
   "metadata": {
    "collapsed": true
   },
   "outputs": [],
   "source": [
    "def N(z,c):\n",
    "    n = 0\n",
    "    while abs(z) < 2 and n < 100:\n",
    "        z = f(z,c)\n",
    "        n += 1\n",
    "    return n"
   ]
  },
  {
   "cell_type": "code",
   "execution_count": 30,
   "metadata": {
    "collapsed": true
   },
   "outputs": [],
   "source": [
    "def plotMandelbrot(resolution):\n",
    "    X = -2\n",
    "    Y = 2\n",
    "    step = 4.0/resolution\n",
    "    data = []\n",
    "    while Y >= -2:\n",
    "        data.append([])\n",
    "        while X <= 2:\n",
    "            data[-1].append(N(0,X + 1j * Y))\n",
    "            X += step\n",
    "        Y -= step\n",
    "        X = -2\n",
    "    ax = sns.heatmap(data, xticklabels = False, yticklabels = False, vmax = 40)"
   ]
  },
  {
   "cell_type": "code",
   "execution_count": 23,
   "metadata": {},
   "outputs": [
    {
     "data": {
      "image/png": "[encoded data removed]",
      "text/plain": [
       "<matplotlib.figure.Figure at 0x13375358>"
      ]
     },
     "metadata": {},
     "output_type": "display_data"
    }
   ],
   "source": [
    "plotMandelbrot(1000)\n",
    "sns.plt.show()"
   ]
  },
  {
   "cell_type": "code",
   "execution_count": 31,
   "metadata": {},
   "outputs": [],
   "source": [
    "def plotJulia(c,resolution):\n",
    "    X = -2\n",
    "    Y = 2\n",
    "    step = 4.0/resolution\n",
    "    data = []\n",
    "    while Y >= -2:\n",
    "        data.append([])\n",
    "        while X <= 2:\n",
    "            data[-1].append(N(X + 1j * Y, c))\n",
    "            X += step\n",
    "        Y -= step\n",
    "        X = -2\n",
    "    ax = sns.heatmap(data, xticklabels = False, yticklabels = False, vmax = 40)"
   ]
  },
  {
   "cell_type": "code",
   "execution_count": 102,
   "metadata": {},
   "outputs": [
    {
     "data": {
      "application/vnd.jupyter.widget-view+json": {
       "model_id": "2fafbb9f0f054288b1bbb47e23364a4b"
      }
     },
     "metadata": {},
     "output_type": "display_data"
    },
    {
     "data": {
      "text/plain": [
       "<function __main__.plotJulia_interactive1>"
      ]
     },
     "execution_count": 102,
     "metadata": {},
     "output_type": "execute_result"
    }
   ],
   "source": [
    "def plotJulia_interactive1(t):\n",
    "    plotJulia(cmath.cos(t) + cmath.sin(t) * 1j, 100)\n",
    "    sns.plt.show()\n",
    "interact(plotJulia_interactive1, t = (-2*cmath.pi, 2*cmath.pi))"
   ]
  },
  {
   "cell_type": "code",
   "execution_count": 105,
   "metadata": {},
   "outputs": [
    {
     "data": {
      "application/vnd.jupyter.widget-view+json": {
       "model_id": "a6d912aaf6e44d168670667e64aad29c"
      }
     },
     "metadata": {},
     "output_type": "display_data"
    },
    {
     "data": {
      "text/plain": [
       "<function __main__.plotJulia_interactive2>"
      ]
     },
     "execution_count": 105,
     "metadata": {},
     "output_type": "execute_result"
    }
   ],
   "source": [
    "def plotJulia_interactive2(t):\n",
    "    plotJulia(cmath.cos(t)/(t + 1) + cmath.sin(t) * 1j / (t + 1), 100)\n",
    "    sns.plt.show()\n",
    "interact(plotJulia_interactive2, t = (-2*cmath.pi, 2*cmath.pi))"
   ]
  },
  {
   "cell_type": "code",
   "execution_count": 110,
   "metadata": {
    "collapsed": true
   },
   "outputs": [],
   "source": [
    "def g(z, c, m):\n",
    "    return z**m + c\n",
    "\n",
    "def N_exp(z, c, function, m):\n",
    "    n = 0\n",
    "    while abs(z) < 2 and n < 100:\n",
    "        z = function(z, c, m)\n",
    "        n += 1\n",
    "    return n\n",
    "\n",
    "def plotMandelbrot_exp(resolution, function, m):\n",
    "    X = -2\n",
    "    Y = 2\n",
    "    step = 4.0/resolution\n",
    "    data = []\n",
    "    while Y >= -2:\n",
    "        data.append([])\n",
    "        while X <= 2:\n",
    "            data[-1].append(N_exp( X + 1j * Y, X + 1j * Y, g, m))\n",
    "            X += step\n",
    "        Y -= step\n",
    "        X = -2\n",
    "    ax = sns.heatmap(data, xticklabels = False, yticklabels = False, vmax = 40)"
   ]
  },
  {
   "cell_type": "code",
   "execution_count": 109,
   "metadata": {},
   "outputs": [
    {
     "data": {
      "application/vnd.jupyter.widget-view+json": {
       "model_id": "f89e88ebeff0458e90905a880342f0b1"
      }
     },
     "metadata": {},
     "output_type": "display_data"
    },
    {
     "data": {
      "text/plain": [
       "<function __main__.plotMandelbrot_N>"
      ]
     },
     "execution_count": 109,
     "metadata": {},
     "output_type": "execute_result"
    }
   ],
   "source": [
    "def plotMandelbrot_N(n):\n",
    "    plotMandelbrot_exp(200, g, n)\n",
    "    sns.plt.show()\n",
    "interact(plotMandelbrot_N, n = (-4.0,4.0))"
   ]
  },
  {
   "cell_type": "code",
   "execution_count": null,
   "metadata": {
    "collapsed": true
   },
   "outputs": [],
   "source": []
  }
 ],
 "metadata": {
  "kernelspec": {
   "display_name": "Python 2",
   "language": "python",
   "name": "python2"
  },
  "language_info": {
   "codemirror_mode": {
    "name": "ipython",
    "version": 2
   },
   "file_extension": ".py",
   "mimetype": "text/x-python",
   "name": "python",
   "nbconvert_exporter": "python",
   "pygments_lexer": "ipython2",
   "version": "2.7.13"
  }
 },
 "nbformat": 4,
 "nbformat_minor": 2
}
